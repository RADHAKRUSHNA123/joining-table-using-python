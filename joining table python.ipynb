{
 "cells": [
  {
   "cell_type": "code",
   "execution_count": 1,
   "id": "568fd15f",
   "metadata": {},
   "outputs": [],
   "source": [
    "import sqlite3"
   ]
  },
  {
   "cell_type": "code",
   "execution_count": 2,
   "id": "29c9db22",
   "metadata": {},
   "outputs": [],
   "source": [
    "con=sqlite3.connect(\"E:/rkm/student_course_db\")"
   ]
  },
  {
   "cell_type": "code",
   "execution_count": 3,
   "id": "34d10b2e",
   "metadata": {},
   "outputs": [],
   "source": [
    "cur=con.cursor()"
   ]
  },
  {
   "cell_type": "code",
   "execution_count": 4,
   "id": "dd3bc3ea",
   "metadata": {},
   "outputs": [
    {
     "data": {
      "text/plain": [
       "<sqlite3.Cursor at 0x187ca79f500>"
      ]
     },
     "execution_count": 4,
     "metadata": {},
     "output_type": "execute_result"
    }
   ],
   "source": [
    "cur.execute(\"create table course(course_id int primary key, course_name text, duration int) \")"
   ]
  },
  {
   "cell_type": "code",
   "execution_count": 5,
   "id": "86c921e1",
   "metadata": {},
   "outputs": [
    {
     "data": {
      "text/plain": [
       "<sqlite3.Cursor at 0x187ca79f500>"
      ]
     },
     "execution_count": 5,
     "metadata": {},
     "output_type": "execute_result"
    }
   ],
   "source": [
    "cur.execute(\"create table student(roll_no int primary key,student_name text, age int, course_id int, foreign key (course_id) references course(corse_id))\")"
   ]
  },
  {
   "cell_type": "code",
   "execution_count": 10,
   "id": "e047870b",
   "metadata": {},
   "outputs": [
    {
     "name": "stdout",
     "output_type": "stream",
     "text": [
      "3 records inserted\n"
     ]
    }
   ],
   "source": [
    "cur.execute(\"insert into course values(101,'data_science',3),(102,'comp sc',6),(103,'machine learning',12)\")\n",
    "print(cur.rowcount,\"records inserted\")\n",
    "con.commit()"
   ]
  },
  {
   "cell_type": "code",
   "execution_count": 13,
   "id": "f9e4961b",
   "metadata": {},
   "outputs": [
    {
     "name": "stdout",
     "output_type": "stream",
     "text": [
      "4 records inserted\n"
     ]
    }
   ],
   "source": [
    "cur.execute(\"insert into student values(1,'rama', 23, 101),(2,'bhima',45,101),(3,'ritu',34,102),(4,'suraj',22,103)\")\n",
    "print(cur.rowcount,\"records inserted\")\n",
    "con.commit()"
   ]
  },
  {
   "cell_type": "code",
   "execution_count": 14,
   "id": "7490193d",
   "metadata": {},
   "outputs": [
    {
     "data": {
      "text/plain": [
       "[(1, 'rama', 23, 101),\n",
       " (2, 'bhima', 45, 101),\n",
       " (3, 'ritu', 34, 102),\n",
       " (4, 'suraj', 22, 103)]"
      ]
     },
     "execution_count": 14,
     "metadata": {},
     "output_type": "execute_result"
    }
   ],
   "source": [
    "result=cur.execute(\"select* from student\")\n",
    "result.fetchall()"
   ]
  },
  {
   "cell_type": "code",
   "execution_count": 18,
   "id": "d5af74c3",
   "metadata": {},
   "outputs": [
    {
     "data": {
      "text/plain": [
       "[(101, 'data_science', 3), (102, 'comp sc', 6), (103, 'machine learning', 12)]"
      ]
     },
     "execution_count": 18,
     "metadata": {},
     "output_type": "execute_result"
    }
   ],
   "source": [
    "result=cur.execute(\"select*from course\")\n",
    "result.fetchall()"
   ]
  },
  {
   "cell_type": "code",
   "execution_count": 20,
   "id": "40ac904b",
   "metadata": {},
   "outputs": [],
   "source": [
    "result=cur.execute('select course_id from course where course_name = \"data_science\"')"
   ]
  },
  {
   "cell_type": "code",
   "execution_count": 21,
   "id": "cd865735",
   "metadata": {},
   "outputs": [
    {
     "data": {
      "text/plain": [
       "[(101,)]"
      ]
     },
     "execution_count": 21,
     "metadata": {},
     "output_type": "execute_result"
    }
   ],
   "source": [
    "result.fetchall()"
   ]
  },
  {
   "cell_type": "code",
   "execution_count": 23,
   "id": "b8fede35",
   "metadata": {},
   "outputs": [
    {
     "data": {
      "text/plain": [
       "[(1, 'rama', 23, 101), (2, 'bhima', 45, 101)]"
      ]
     },
     "execution_count": 23,
     "metadata": {},
     "output_type": "execute_result"
    }
   ],
   "source": [
    "result=cur.execute('select * from student where course_id=(select course_id from course where course_name = \"data_science\")')\n",
    "result.fetchall()"
   ]
  },
  {
   "cell_type": "markdown",
   "id": "6df77480",
   "metadata": {},
   "source": [
    "# joining table"
   ]
  },
  {
   "cell_type": "code",
   "execution_count": 24,
   "id": "5c1ef13a",
   "metadata": {},
   "outputs": [
    {
     "data": {
      "text/plain": [
       "[(1, 'rama', 'data_science', 101),\n",
       " (2, 'bhima', 'data_science', 101),\n",
       " (3, 'ritu', 'comp sc', 102),\n",
       " (4, 'suraj', 'machine learning', 103)]"
      ]
     },
     "execution_count": 24,
     "metadata": {},
     "output_type": "execute_result"
    }
   ],
   "source": [
    "result=cur.execute(\"select student.roll_no,student.student_name,course.course_name,course.course_id from student INNER JOIN course ON student.course_id=course.course_id\")\n",
    "result.fetchall()"
   ]
  },
  {
   "cell_type": "code",
   "execution_count": 25,
   "id": "178695f1",
   "metadata": {},
   "outputs": [
    {
     "data": {
      "text/plain": [
       "[(1, 'rama', 'data_science', 101),\n",
       " (2, 'bhima', 'data_science', 101),\n",
       " (3, 'ritu', 'comp sc', 102),\n",
       " (4, 'suraj', 'machine learning', 103)]"
      ]
     },
     "execution_count": 25,
     "metadata": {},
     "output_type": "execute_result"
    }
   ],
   "source": [
    "result=cur.execute(\"select student.roll_no,student.student_name,course.course_name,course.course_id from student LEFT JOIN course ON student.course_id=course.course_id\")\n",
    "result.fetchall()"
   ]
  },
  {
   "cell_type": "code",
   "execution_count": 29,
   "id": "b1f04bbf",
   "metadata": {},
   "outputs": [
    {
     "name": "stdout",
     "output_type": "stream",
     "text": [
      "(1, 'rama', 'data_science', 101)\n",
      "(2, 'bhima', 'data_science', 101)\n",
      "(3, 'ritu', 'comp sc', 102)\n",
      "(4, 'suraj', 'machine learning', 103)\n"
     ]
    }
   ],
   "source": [
    "result=cur.execute(\"select student.roll_no,student.student_name,course.course_name,course.course_id from course LEFT JOIN student ON student.course_id=course.course_id\")\n",
    "for i in result:\n",
    "    print(i)"
   ]
  },
  {
   "cell_type": "code",
   "execution_count": null,
   "id": "2f350083",
   "metadata": {},
   "outputs": [],
   "source": []
  }
 ],
 "metadata": {
  "kernelspec": {
   "display_name": "Python 3 (ipykernel)",
   "language": "python",
   "name": "python3"
  },
  "language_info": {
   "codemirror_mode": {
    "name": "ipython",
    "version": 3
   },
   "file_extension": ".py",
   "mimetype": "text/x-python",
   "name": "python",
   "nbconvert_exporter": "python",
   "pygments_lexer": "ipython3",
   "version": "3.9.12"
  }
 },
 "nbformat": 4,
 "nbformat_minor": 5
}
